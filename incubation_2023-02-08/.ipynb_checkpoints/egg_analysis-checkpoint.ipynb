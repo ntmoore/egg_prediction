{
 "cells": [
  {
   "cell_type": "code",
   "execution_count": 1,
   "id": "d05b6740",
   "metadata": {},
   "outputs": [],
   "source": [
    "from matplotlib import pyplot as plt\n",
    "import numpy as np"
   ]
  },
  {
   "cell_type": "code",
   "execution_count": 7,
   "id": "c24861bd",
   "metadata": {},
   "outputs": [],
   "source": [
    "csv=np.genfromtxt ('2023-01-26-incubation-data.csv',\n",
    "                 #  skip_header=1,\n",
    "                   delimiter=\",\")\n",
    "csv[0:10]\n",
    "csv = csv[6:]"
   ]
  },
  {
   "cell_type": "code",
   "execution_count": null,
   "id": "4e528158",
   "metadata": {},
   "outputs": [],
   "source": []
  }
 ],
 "metadata": {
  "kernelspec": {
   "display_name": "Python 3 (ipykernel)",
   "language": "python",
   "name": "python3"
  },
  "language_info": {
   "codemirror_mode": {
    "name": "ipython",
    "version": 3
   },
   "file_extension": ".py",
   "mimetype": "text/x-python",
   "name": "python",
   "nbconvert_exporter": "python",
   "pygments_lexer": "ipython3",
   "version": "3.9.13"
  }
 },
 "nbformat": 4,
 "nbformat_minor": 5
}
